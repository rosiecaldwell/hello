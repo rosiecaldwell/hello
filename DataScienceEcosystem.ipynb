{
 "cells": [
  {
   "cell_type": "markdown",
   "id": "20ae4d18",
   "metadata": {},
   "source": [
    "# Data Science Tools and Ecosystem"
   ]
  },
  {
   "cell_type": "markdown",
   "id": "8a35dff6",
   "metadata": {},
   "source": [
    "In this jupyter botebook, data science tools and ecosystems are summarized."
   ]
  },
  {
   "cell_type": "markdown",
   "id": "cc8a617a",
   "metadata": {},
   "source": [
    "Some of the popular languages data scientist use are:\n",
    "1. Python\n",
    "2. R \n",
    "3. SQL "
   ]
  },
  {
   "cell_type": "markdown",
   "id": "140b98c1",
   "metadata": {},
   "source": [
    "Some of the populr libraries data scientist use are:\n",
    "1. ggplot2\n",
    "2. GGally\n",
    "3. dplyr\n",
    "4. Numpy\n",
    "5. Pandas"
   ]
  },
  {
   "cell_type": "markdown",
   "id": "563b5ad9",
   "metadata": {},
   "source": [
    "| Data Science Tools      |\n",
    "|------------------------|\n",
    "| Jupyter Notebook       |\n",
    "| RStudio                |\n",
    "| Visual Studio Code     |"
   ]
  },
  {
   "cell_type": "markdown",
   "id": "92033c0e",
   "metadata": {},
   "source": [
    "### Below are a few examples of evaluating arithmetic expressions in Python"
   ]
  },
  {
   "cell_type": "code",
   "execution_count": 1,
   "id": "4f07813b",
   "metadata": {},
   "outputs": [
    {
     "data": {
      "text/plain": [
       "17"
      ]
     },
     "execution_count": 1,
     "metadata": {},
     "output_type": "execute_result"
    }
   ],
   "source": [
    "#This a simple arithmetic expression to mutiply then add integers\n",
    "\n",
    "(3*4)+5"
   ]
  },
  {
   "cell_type": "code",
   "execution_count": 2,
   "id": "b61b97ed",
   "metadata": {},
   "outputs": [
    {
     "data": {
      "text/plain": [
       "3.3333333333333335"
      ]
     },
     "execution_count": 2,
     "metadata": {},
     "output_type": "execute_result"
    }
   ],
   "source": [
    "#This will convert 200 minutes to hours by diving by 60\n",
    "\n",
    "200/60"
   ]
  },
  {
   "cell_type": "markdown",
   "id": "1679a4cf",
   "metadata": {},
   "source": [
    "**Objectives:** \n",
    "\n",
    "- List languages for Data Science.\n",
    "- Introduce data science tools and environments.\n",
    "- Provide examples of arithmetic expressions.\n",
    "- Use of Markdown in Jupyter Notebook.\n",
    "- Create tables in Markdown."
   ]
  },
  {
   "cell_type": "markdown",
   "id": "1fd893df",
   "metadata": {},
   "source": [
    "## Author\n",
    "Rosie Caldwell"
   ]
  },
  {
   "cell_type": "code",
   "execution_count": null,
   "id": "2fcc9630",
   "metadata": {},
   "outputs": [],
   "source": []
  }
 ],
 "metadata": {
  "kernelspec": {
   "display_name": "Python 3 (ipykernel)",
   "language": "python",
   "name": "python3"
  },
  "language_info": {
   "codemirror_mode": {
    "name": "ipython",
    "version": 3
   },
   "file_extension": ".py",
   "mimetype": "text/x-python",
   "name": "python",
   "nbconvert_exporter": "python",
   "pygments_lexer": "ipython3",
   "version": "3.9.18"
  }
 },
 "nbformat": 4,
 "nbformat_minor": 5
}
